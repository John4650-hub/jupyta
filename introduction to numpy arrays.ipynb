{
 "cells": [
  {
   "cell_type": "code",
   "execution_count": 42,
   "id": "879b175e",
   "metadata": {},
   "outputs": [],
   "source": [
    "import numpy as np"
   ]
  },
  {
   "cell_type": "code",
   "execution_count": 43,
   "id": "cb552c02",
   "metadata": {},
   "outputs": [],
   "source": [
    "x = np.array([[1,2,3],[4,5,6],[7,8,9]])"
   ]
  },
  {
   "cell_type": "code",
   "execution_count": 44,
   "id": "e4148811",
   "metadata": {},
   "outputs": [
    {
     "name": "stdout",
     "output_type": "stream",
     "text": [
      "[[1 2 3]\n",
      " [4 5 6]\n",
      " [7 8 9]]\n"
     ]
    }
   ],
   "source": [
    "print(x)"
   ]
  },
  {
   "cell_type": "code",
   "execution_count": 45,
   "id": "e9f6e2dc",
   "metadata": {},
   "outputs": [
    {
     "name": "stdout",
     "output_type": "stream",
     "text": [
      "9\n"
     ]
    }
   ],
   "source": [
    "print(x[2][2])\n",
    "#Here the first index \n",
    "# is for the row \n",
    "# and the second for the column"
   ]
  },
  {
   "cell_type": "code",
   "execution_count": 46,
   "id": "aa9a06b8",
   "metadata": {},
   "outputs": [
    {
     "data": {
      "text/plain": [
       "2"
      ]
     },
     "execution_count": 46,
     "metadata": {},
     "output_type": "execute_result"
    }
   ],
   "source": [
    "x.ndim\n",
    "# number of dimensions\n"
   ]
  },
  {
   "cell_type": "code",
   "execution_count": 47,
   "id": "ed2ee84f",
   "metadata": {},
   "outputs": [
    {
     "data": {
      "text/plain": [
       "9"
      ]
     },
     "execution_count": 47,
     "metadata": {},
     "output_type": "execute_result"
    }
   ],
   "source": [
    "x.size\n",
    "# number of elements"
   ]
  },
  {
   "cell_type": "code",
   "execution_count": 48,
   "id": "665e947d",
   "metadata": {},
   "outputs": [
    {
     "data": {
      "text/plain": [
       "(3, 3)"
      ]
     },
     "execution_count": 48,
     "metadata": {},
     "output_type": "execute_result"
    }
   ],
   "source": [
    "x.shape\n",
    "#tuple that shows num of elemnets on\n",
    "# each "
   ]
  },
  {
   "cell_type": "code",
   "execution_count": 49,
   "id": "5afe11ee",
   "metadata": {},
   "outputs": [],
   "source": [
    "# we can add, remove & sort an array\n",
    "# np.append()-for adding elements\n",
    "# np.delete()-for removing at index\n",
    "# np.sort()-for sorting \""
   ]
  },
  {
   "cell_type": "code",
   "execution_count": 50,
   "id": "bfe8dd65",
   "metadata": {},
   "outputs": [
    {
     "name": "stdout",
     "output_type": "stream",
     "text": [
      "[ 1  2  3  4  5  6  7  8  9 20] \n",
      "\n",
      "[1 2 3 4 6 7 8 9] \n",
      "\n",
      "[[1 2 3]\n",
      " [4 5 6]\n",
      " [7 8 9]]\n"
     ]
    }
   ],
   "source": [
    "print(np.append(x,20),'\\n')\n",
    "print(np.delete(x,4),'\\n')\n",
    "print(np.sort(x))"
   ]
  },
  {
   "cell_type": "code",
   "execution_count": 51,
   "id": "4d9c4a23",
   "metadata": {
    "scrolled": true
   },
   "outputs": [
    {
     "data": {
      "text/plain": [
       "15"
      ]
     },
     "execution_count": 51,
     "metadata": {},
     "output_type": "execute_result"
    }
   ],
   "source": [
    "# we can also use np.arange()\n",
    "# to create a range of element\n",
    "import numpy as np\n",
    "x = np.arange(1,30,2)\n",
    "x.size"
   ]
  },
  {
   "cell_type": "code",
   "execution_count": 52,
   "id": "14ce15ea",
   "metadata": {
    "scrolled": true
   },
   "outputs": [
    {
     "data": {
      "text/plain": [
       "array([[ 1,  3,  5,  7,  9],\n",
       "       [11, 13, 15, 17, 19],\n",
       "       [21, 23, 25, 27, 29]])"
      ]
     },
     "execution_count": 52,
     "metadata": {},
     "output_type": "execute_result"
    }
   ],
   "source": [
    "# we can reshape an array (either)\n",
    "# 2-dimension or 1-dimension\n",
    "x.reshape(3,5)"
   ]
  },
  {
   "cell_type": "code",
   "execution_count": 53,
   "id": "e0b283e5",
   "metadata": {},
   "outputs": [
    {
     "name": "stdout",
     "output_type": "stream",
     "text": [
      "[2 3 4]\n",
      "[1 2 3 4 5]\n"
     ]
    }
   ],
   "source": [
    "# indexing and slicing\n",
    "x = np.arange(1,10)\n",
    "print(x[1:4])\n",
    "print(x[:5])"
   ]
  },
  {
   "cell_type": "code",
   "execution_count": 54,
   "id": "5d2e5807",
   "metadata": {},
   "outputs": [
    {
     "name": "stdout",
     "output_type": "stream",
     "text": [
      "[5 6 7 8 9]\n",
      "[5]\n"
     ]
    }
   ],
   "source": [
    "# conditions \n",
    "print(x[x>4])\n",
    "print(x[(x<6)  & (x>4)])\n",
    "\n",
    "\n"
   ]
  },
  {
   "cell_type": "code",
   "execution_count": 55,
   "id": "f388ce4a",
   "metadata": {},
   "outputs": [
    {
     "name": "stdout",
     "output_type": "stream",
     "text": [
      "45\n",
      "1\n",
      "9\n",
      "[0 1 2 3 4 5 6 7 8]\n"
     ]
    }
   ],
   "source": [
    "# operations\n",
    "# use the sum() function to add all\n",
    "# elements in an array\n",
    "# also we can multiply all elements\n",
    "# at once\n",
    "print(x.sum())\n",
    "print(x.min())\n",
    "print(x.max())\n",
    "print(x-1)\n"
   ]
  },
  {
   "cell_type": "code",
   "execution_count": 56,
   "id": "f9831008",
   "metadata": {},
   "outputs": [
    {
     "name": "stdout",
     "output_type": "stream",
     "text": [
      "5.0\n",
      "5.0\n",
      "6.666666666666667\n",
      "2.581988897471611\n"
     ]
    }
   ],
   "source": [
    "# STATISTICS\n",
    "# we can use the numpy mean(), median(),\n",
    "# varience and standard deviation\n",
    "print(np.mean(x))\n",
    "print(np.median(x))\n",
    "print(np.var(x))\n",
    "print(np.std(x))"
   ]
  }
 ],
 "metadata": {
  "kernelspec": {
   "display_name": "Python 3 (ipykernel)",
   "language": "python",
   "name": "python3"
  },
  "language_info": {
   "codemirror_mode": {
    "name": "ipython",
    "version": 3
   },
   "file_extension": ".py",
   "mimetype": "text/x-python",
   "name": "python",
   "nbconvert_exporter": "python",
   "pygments_lexer": "ipython3",
   "version": "3.8.3"
  }
 },
 "nbformat": 4,
 "nbformat_minor": 5
}
